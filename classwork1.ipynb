{
  "nbformat": 4,
  "nbformat_minor": 0,
  "metadata": {
    "colab": {
      "name": "classwork1.ipynb",
      "provenance": [],
      "collapsed_sections": [],
      "authorship_tag": "ABX9TyMN/pmbusZdhlat7F0CObpA",
      "include_colab_link": true
    },
    "kernelspec": {
      "name": "python3",
      "display_name": "Python 3"
    },
    "language_info": {
      "name": "python"
    }
  },
  "cells": [
    {
      "cell_type": "markdown",
      "metadata": {
        "id": "view-in-github",
        "colab_type": "text"
      },
      "source": [
        "<a href=\"https://colab.research.google.com/github/Gyanajitdas/work/blob/main/classwork1.ipynb\" target=\"_parent\"><img src=\"https://colab.research.google.com/assets/colab-badge.svg\" alt=\"Open In Colab\"/></a>"
      ]
    },
    {
      "cell_type": "code",
      "metadata": {
        "colab": {
          "base_uri": "https://localhost:8080/"
        },
        "id": "Nwod8iO8HoiJ",
        "outputId": "4db3403c-839a-44b8-b62d-74df2596c30d"
      },
      "source": [
        "2+1"
      ],
      "execution_count": 1,
      "outputs": [
        {
          "output_type": "execute_result",
          "data": {
            "text/plain": [
              "3"
            ]
          },
          "metadata": {},
          "execution_count": 1
        }
      ]
    },
    {
      "cell_type": "code",
      "metadata": {
        "colab": {
          "base_uri": "https://localhost:8080/"
        },
        "id": "IEc9KcMMHtWj",
        "outputId": "e80de057-253c-4adb-d3ac-4eeabacffd53"
      },
      "source": [
        "#addithion\n",
        "2+3"
      ],
      "execution_count": 1,
      "outputs": [
        {
          "output_type": "execute_result",
          "data": {
            "text/plain": [
              "5"
            ]
          },
          "metadata": {},
          "execution_count": 1
        }
      ]
    },
    {
      "cell_type": "code",
      "metadata": {
        "colab": {
          "base_uri": "https://localhost:8080/"
        },
        "id": "3ZUSm7bm7yZt",
        "outputId": "ff808e3a-ad69-42e0-e1cf-a717e620a569"
      },
      "source": [
        "x=10\n",
        "y=5\n",
        "z=x+y\n",
        "print(z)"
      ],
      "execution_count": 3,
      "outputs": [
        {
          "output_type": "stream",
          "name": "stdout",
          "text": [
            "15\n"
          ]
        }
      ]
    },
    {
      "cell_type": "code",
      "metadata": {
        "colab": {
          "base_uri": "https://localhost:8080/"
        },
        "id": "2caw-LSA8AZT",
        "outputId": "cc9064e8-a321-4c94-fe9e-e31c2ea1051e"
      },
      "source": [
        "#substraction\n",
        "z=x-y\n",
        "print(z)"
      ],
      "execution_count": 4,
      "outputs": [
        {
          "output_type": "stream",
          "name": "stdout",
          "text": [
            "5\n"
          ]
        }
      ]
    },
    {
      "cell_type": "code",
      "metadata": {
        "colab": {
          "base_uri": "https://localhost:8080/"
        },
        "id": "mhMqBPNF8La4",
        "outputId": "24d649ca-c144-4722-f4f9-5bea89daea69"
      },
      "source": [
        "#division\n",
        "z=x/y\n",
        "print(z)"
      ],
      "execution_count": 6,
      "outputs": [
        {
          "output_type": "stream",
          "name": "stdout",
          "text": [
            "2.0\n"
          ]
        }
      ]
    },
    {
      "cell_type": "code",
      "metadata": {
        "colab": {
          "base_uri": "https://localhost:8080/"
        },
        "id": "8GUmOLep8Sec",
        "outputId": "d7f2c68f-81d4-4260-d474-fc6004ced5c3"
      },
      "source": [
        "#multiplication\n",
        "z=x*y\n",
        "print(z)"
      ],
      "execution_count": 7,
      "outputs": [
        {
          "output_type": "stream",
          "name": "stdout",
          "text": [
            "50\n"
          ]
        }
      ]
    },
    {
      "cell_type": "code",
      "metadata": {
        "id": "6GWx6RBs9up8"
      },
      "source": [
        ""
      ],
      "execution_count": null,
      "outputs": []
    },
    {
      "cell_type": "code",
      "metadata": {
        "colab": {
          "base_uri": "https://localhost:8080/"
        },
        "id": "_rWVptCt8hzB",
        "outputId": "37ffcd7a-ed66-409f-d5c1-a76ee2d95612"
      },
      "source": [
        "# comaparision  greater than\n",
        "a=10\n",
        "b=15\n",
        "print('a > b is',a>b)"
      ],
      "execution_count": 8,
      "outputs": [
        {
          "output_type": "stream",
          "name": "stdout",
          "text": [
            "a > b is False\n"
          ]
        }
      ]
    },
    {
      "cell_type": "code",
      "metadata": {
        "colab": {
          "base_uri": "https://localhost:8080/"
        },
        "id": "RhU7ieJF8r2D",
        "outputId": "8af0a859-e581-4cca-c7b3-7d6a8af6789a"
      },
      "source": [
        "#less than\n",
        "print('a < b is',a < b)"
      ],
      "execution_count": 9,
      "outputs": [
        {
          "output_type": "stream",
          "name": "stdout",
          "text": [
            "a < b is True\n"
          ]
        }
      ]
    },
    {
      "cell_type": "code",
      "metadata": {
        "colab": {
          "base_uri": "https://localhost:8080/"
        },
        "id": "tgJwzZPQ8weM",
        "outputId": "4935a195-689f-4560-87e3-b24b1d4abbb8"
      },
      "source": [
        "# equal to\n",
        "print('a == b is',a == b)\n"
      ],
      "execution_count": 10,
      "outputs": [
        {
          "output_type": "stream",
          "name": "stdout",
          "text": [
            "a == b is False\n"
          ]
        }
      ]
    },
    {
      "cell_type": "code",
      "metadata": {
        "colab": {
          "base_uri": "https://localhost:8080/"
        },
        "id": "k4yRISQE80_0",
        "outputId": "fbd78d10-ec5f-4ca9-e2c2-9fb9ff9c253d"
      },
      "source": [
        "# greater than equal\n",
        "print('a >= b is',a >= b)"
      ],
      "execution_count": 11,
      "outputs": [
        {
          "output_type": "stream",
          "name": "stdout",
          "text": [
            "a >= b is False\n"
          ]
        }
      ]
    },
    {
      "cell_type": "code",
      "metadata": {
        "colab": {
          "base_uri": "https://localhost:8080/"
        },
        "id": "usySIx7K9DE4",
        "outputId": "37ca3904-7ff2-44fc-869a-dc50b7adc6ef"
      },
      "source": [
        "#less than equal \n",
        "print(' a <= b is',a <= b)"
      ],
      "execution_count": 12,
      "outputs": [
        {
          "output_type": "stream",
          "name": "stdout",
          "text": [
            " a <= b is True\n"
          ]
        }
      ]
    },
    {
      "cell_type": "code",
      "metadata": {
        "colab": {
          "base_uri": "https://localhost:8080/"
        },
        "id": "mD_hBcW19HX2",
        "outputId": "78b7f946-1293-47bd-9808-0e0f16dcd0aa"
      },
      "source": [
        "# logical operators\n",
        "#and\n",
        "c= True\n",
        "d= False\n",
        "print ('c and d is',c and d)"
      ],
      "execution_count": 13,
      "outputs": [
        {
          "output_type": "stream",
          "name": "stdout",
          "text": [
            "c and d is False\n"
          ]
        }
      ]
    },
    {
      "cell_type": "code",
      "metadata": {
        "colab": {
          "base_uri": "https://localhost:8080/"
        },
        "id": "3HmHxZWU9Lze",
        "outputId": "ee0e148f-0267-4b7a-be99-849a8af57248"
      },
      "source": [
        "# or\n",
        "print('c or d is',c or d)"
      ],
      "execution_count": 14,
      "outputs": [
        {
          "output_type": "stream",
          "name": "stdout",
          "text": [
            "c or d is True\n"
          ]
        }
      ]
    },
    {
      "cell_type": "code",
      "metadata": {
        "id": "0tBP7qsh9RCz"
      },
      "source": [
        ""
      ],
      "execution_count": null,
      "outputs": []
    }
  ]
}