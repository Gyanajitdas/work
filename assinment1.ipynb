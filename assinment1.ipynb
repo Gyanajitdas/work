{
  "nbformat": 4,
  "nbformat_minor": 0,
  "metadata": {
    "colab": {
      "name": "Copy of Untitled12.ipynb",
      "provenance": [],
      "collapsed_sections": [],
      "authorship_tag": "ABX9TyNUc+1kmj2Ltc4WnM+5Zqt/",
      "include_colab_link": true
    },
    "kernelspec": {
      "name": "python3",
      "display_name": "Python 3"
    },
    "language_info": {
      "name": "python"
    }
  },
  "cells": [
    {
      "cell_type": "markdown",
      "metadata": {
        "id": "view-in-github",
        "colab_type": "text"
      },
      "source": [
        "<a href=\"https://colab.research.google.com/github/Gyanajitdas/work/blob/main/assinment1.ipynb\" target=\"_parent\"><img src=\"https://colab.research.google.com/assets/colab-badge.svg\" alt=\"Open In Colab\"/></a>"
      ]
    },
    {
      "cell_type": "code",
      "metadata": {
        "colab": {
          "base_uri": "https://localhost:8080/"
        },
        "id": "1YSg-tFZH4jj",
        "outputId": "b45cd82d-4072-4bb9-b6ca-c7eb914b206c"
      },
      "source": [
        "#wap to print natural numbers from 1 to n, n is enterd by the user.\n",
        "n=int(input(\"enter the number\"))\n",
        "\n",
        "for num in range(1,n+1,1):\n",
        " print(num)"
      ],
      "execution_count": 3,
      "outputs": [
        {
          "output_type": "stream",
          "name": "stdout",
          "text": [
            "enter the number15\n",
            "1\n",
            "2\n",
            "3\n",
            "4\n",
            "5\n",
            "6\n",
            "7\n",
            "8\n",
            "9\n",
            "10\n",
            "11\n",
            "12\n",
            "13\n",
            "14\n",
            "15\n"
          ]
        }
      ]
    },
    {
      "cell_type": "code",
      "metadata": {
        "id": "a-4tvlA7IGVl"
      },
      "source": [
        "\n"
      ],
      "execution_count": null,
      "outputs": []
    },
    {
      "cell_type": "code",
      "metadata": {
        "colab": {
          "base_uri": "https://localhost:8080/"
        },
        "id": "vaMgmgk7I246",
        "outputId": "d5b8b6cb-7d29-4b64-e8bd-06046576380d"
      },
      "source": [
        "#wap to print table of n,where n is enterd by  the user\n",
        "n= int(input(\" enter the number \"))\n",
        "for i in range(1,11):  #loop use\n",
        "  print(n,'x',i ,'=',n*i)"
      ],
      "execution_count": null,
      "outputs": [
        {
          "output_type": "stream",
          "name": "stdout",
          "text": [
            " enter the number 6\n",
            "6 x 1 = 6\n",
            "6 x 2 = 12\n",
            "6 x 3 = 18\n",
            "6 x 4 = 24\n",
            "6 x 5 = 30\n",
            "6 x 6 = 36\n",
            "6 x 7 = 42\n",
            "6 x 8 = 48\n",
            "6 x 9 = 54\n",
            "6 x 10 = 60\n"
          ]
        }
      ]
    },
    {
      "cell_type": "code",
      "metadata": {
        "colab": {
          "base_uri": "https://localhost:8080/"
        },
        "id": "O0x1hg_0JO8U",
        "outputId": "a6f3c39f-9463-4a97-ea27-efea4d9962e9"
      },
      "source": [
        "#sum of n natural  numbers where n is enter by the user:\n",
        "n=int(input(\"enter the value of n  :\"))\n",
        "\n",
        "sum = 0\n",
        "i = 1\n",
        "while i<=n:\n",
        "  sum = sum+i\n",
        "  i = i+1\n",
        "\n",
        "print(\"the sum of natural number is\", sum)"
      ],
      "execution_count": null,
      "outputs": [
        {
          "output_type": "stream",
          "name": "stdout",
          "text": [
            "enter the value of n2\n",
            "the sum of natural number is 3\n"
          ]
        }
      ]
    },
    {
      "cell_type": "code",
      "metadata": {
        "colab": {
          "base_uri": "https://localhost:8080/"
        },
        "id": "JFmW_p0ZKzhF",
        "outputId": "b9d18d98-0c8e-4d13-f80a-1953fbf52c65"
      },
      "source": [
        "#wap to print thr factorial of the given numbers, where number is enterd by the user:\n",
        "i=int(input(\"enter a number= :\"))\n",
        "fac=1\n",
        "while(i>0):\n",
        "  fac=fac*i\n",
        "  i=i-1\n",
        "  print(\"factorial\",i,fac)"
      ],
      "execution_count": null,
      "outputs": [
        {
          "output_type": "stream",
          "name": "stdout",
          "text": [
            "enter a number= :5\n",
            "factorial 4 5\n",
            "factorial 3 20\n",
            "factorial 2 60\n",
            "factorial 1 120\n",
            "factorial 0 120\n"
          ]
        }
      ]
    },
    {
      "cell_type": "code",
      "metadata": {
        "id": "YKVrRMXAO1om"
      },
      "source": [
        ""
      ],
      "execution_count": null,
      "outputs": []
    }
  ]
}