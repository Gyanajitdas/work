{
  "nbformat": 4,
  "nbformat_minor": 0,
  "metadata": {
    "colab": {
      "name": "Untitled18.ipynb",
      "provenance": [],
      "authorship_tag": "ABX9TyPiSrf4Vz/cq/jSe219cywL",
      "include_colab_link": true
    },
    "kernelspec": {
      "name": "python3",
      "display_name": "Python 3"
    },
    "language_info": {
      "name": "python"
    }
  },
  "cells": [
    {
      "cell_type": "markdown",
      "metadata": {
        "id": "view-in-github",
        "colab_type": "text"
      },
      "source": [
        "<a href=\"https://colab.research.google.com/github/Gyanajitdas/work/blob/main/python%20pandas.ipynb\" target=\"_parent\"><img src=\"https://colab.research.google.com/assets/colab-badge.svg\" alt=\"Open In Colab\"/></a>"
      ]
    },
    {
      "cell_type": "code",
      "metadata": {
        "id": "9YtTBDE8tw1H"
      },
      "source": [
        "#data frame\n",
        "import pandas as pd\n",
        "\n"
      ],
      "execution_count": 3,
      "outputs": []
    },
    {
      "cell_type": "code",
      "metadata": {
        "colab": {
          "base_uri": "https://localhost:8080/"
        },
        "id": "lel6QwqGuLP3",
        "outputId": "1a0e08c4-043f-4021-c0aa-41918fe000e2"
      },
      "source": [
        "emt_df=pd.DataFrame()\n",
        "print(emt_df)"
      ],
      "execution_count": 5,
      "outputs": [
        {
          "output_type": "stream",
          "name": "stdout",
          "text": [
            "Empty DataFrame\n",
            "Columns: []\n",
            "Index: []\n"
          ]
        }
      ]
    },
    {
      "cell_type": "code",
      "metadata": {
        "colab": {
          "base_uri": "https://localhost:8080/"
        },
        "id": "KeO-OeNLv9hF",
        "outputId": "452a9152-8369-4d42-c6b0-ab30475482a5"
      },
      "source": [
        "list=['a','b','c']\n",
        "print(list)"
      ],
      "execution_count": 6,
      "outputs": [
        {
          "output_type": "stream",
          "name": "stdout",
          "text": [
            "['a', 'b', 'c']\n"
          ]
        }
      ]
    },
    {
      "cell_type": "code",
      "metadata": {
        "colab": {
          "base_uri": "https://localhost:8080/"
        },
        "id": "8hZ8njDXwyou",
        "outputId": "f3c8c832-c8bd-49fe-b9da-cbf9078f155c"
      },
      "source": [
        "ls_of_ls=[[1,2,3],[2,3,4],[4,5,6]]\n",
        "print(ls_of_ls)"
      ],
      "execution_count": 12,
      "outputs": [
        {
          "output_type": "stream",
          "name": "stdout",
          "text": [
            "[[1, 2, 3], [2, 3, 4], [4, 5, 6]]\n"
          ]
        }
      ]
    },
    {
      "cell_type": "code",
      "metadata": {
        "colab": {
          "base_uri": "https://localhost:8080/"
        },
        "id": "2b4ThZTExBWB",
        "outputId": "88656f4f-0805-41d6-9ae8-b6e21a25afde"
      },
      "source": [
        "df2=pd.DataFrame(ls_of_ls)\n",
        "print(df2)"
      ],
      "execution_count": 9,
      "outputs": [
        {
          "output_type": "stream",
          "name": "stdout",
          "text": [
            "   0  1  2\n",
            "0  1  2  3\n",
            "1  2  3  4\n",
            "2  4  5  6\n"
          ]
        }
      ]
    },
    {
      "cell_type": "code",
      "metadata": {
        "colab": {
          "base_uri": "https://localhost:8080/"
        },
        "id": "sz--EPONxQ4_",
        "outputId": "47877c89-e6ce-49ba-d466-406520f3081a"
      },
      "source": [
        "dict1={'id':[11,22,33,44],'sn':[1,2,3,4]}\n",
        "df3=pd.DataFrame(dict1)\n",
        "print(df3)"
      ],
      "execution_count": 15,
      "outputs": [
        {
          "output_type": "stream",
          "name": "stdout",
          "text": [
            "   id  sn\n",
            "0  11   1\n",
            "1  22   2\n",
            "2  33   3\n",
            "3  44   4\n"
          ]
        }
      ]
    },
    {
      "cell_type": "code",
      "metadata": {
        "id": "DfaghGI_x2YD"
      },
      "source": [
        ""
      ],
      "execution_count": null,
      "outputs": []
    }
  ]
}