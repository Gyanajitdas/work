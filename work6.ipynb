{
  "nbformat": 4,
  "nbformat_minor": 0,
  "metadata": {
    "colab": {
      "name": "Untitled9.ipynb",
      "provenance": [],
      "collapsed_sections": [],
      "authorship_tag": "ABX9TyP2u1vaOvMKVBJP1z4KdBwo",
      "include_colab_link": true
    },
    "kernelspec": {
      "name": "python3",
      "display_name": "Python 3"
    },
    "language_info": {
      "name": "python"
    }
  },
  "cells": [
    {
      "cell_type": "markdown",
      "metadata": {
        "id": "view-in-github",
        "colab_type": "text"
      },
      "source": [
        "<a href=\"https://colab.research.google.com/github/Gyanajitdas/work/blob/main/work6.ipynb\" target=\"_parent\"><img src=\"https://colab.research.google.com/assets/colab-badge.svg\" alt=\"Open In Colab\"/></a>"
      ]
    },
    {
      "cell_type": "code",
      "metadata": {
        "colab": {
          "base_uri": "https://localhost:8080/"
        },
        "id": "s0lcX22K5guM",
        "outputId": "70d90bfd-b4ae-4ad7-af20-6fa7d7ca2f5a"
      },
      "source": [
        "#escape sequence\n",
        "course=\"python for\\\"beginner\"\n",
        "print(course)"
      ],
      "execution_count": 1,
      "outputs": [
        {
          "output_type": "stream",
          "name": "stdout",
          "text": [
            "python for\"beginner\n"
          ]
        }
      ]
    },
    {
      "cell_type": "code",
      "metadata": {
        "colab": {
          "base_uri": "https://localhost:8080/"
        },
        "id": "wvKv3aOD5hvB",
        "outputId": "1b5f057b-c62a-401a-e23b-081980724c27"
      },
      "source": [
        "course=\"python \\\"for \\\"begi \\\"nner\"\n",
        "print(course)"
      ],
      "execution_count": 2,
      "outputs": [
        {
          "output_type": "stream",
          "name": "stdout",
          "text": [
            "python \"for \"begi \"nner\n"
          ]
        }
      ]
    },
    {
      "cell_type": "code",
      "metadata": {
        "colab": {
          "base_uri": "https://localhost:8080/"
        },
        "id": "EQjaxPV75y-k",
        "outputId": "e2a45bbb-dd6c-48a4-dcc5-65177257bc85"
      },
      "source": [
        "course=\"python \\for beginner\"\n",
        "print(course)"
      ],
      "execution_count": 3,
      "outputs": [
        {
          "output_type": "stream",
          "name": "stdout",
          "text": [
            "python \for beginner\n"
          ]
        }
      ]
    },
    {
      "cell_type": "code",
      "metadata": {
        "colab": {
          "base_uri": "https://localhost:8080/"
        },
        "id": "Ms-twNEE53zC",
        "outputId": "aedff49a-0fda-4314-ba32-5fb92a5579a2"
      },
      "source": [
        "#for a new line\n",
        "course=\"python  \\nfor beginner\"\n",
        "print(course)"
      ],
      "execution_count": 4,
      "outputs": [
        {
          "output_type": "stream",
          "name": "stdout",
          "text": [
            "python  \n",
            "for beginner\n"
          ]
        }
      ]
    },
    {
      "cell_type": "code",
      "metadata": {
        "colab": {
          "base_uri": "https://localhost:8080/"
        },
        "id": "osRhlh7p58d8",
        "outputId": "fbbefe58-36d3-4b7a-e06f-7b350506c6f0"
      },
      "source": [
        "#for a tab space\n",
        "course=\"python \\tfor beginner\"\n",
        "print(course)"
      ],
      "execution_count": 5,
      "outputs": [
        {
          "output_type": "stream",
          "name": "stdout",
          "text": [
            "python \tfor beginner\n"
          ]
        }
      ]
    },
    {
      "cell_type": "code",
      "metadata": {
        "colab": {
          "base_uri": "https://localhost:8080/"
        },
        "id": "vpGE_ZQY6JXD",
        "outputId": "025846f7-1a11-4479-8640-4f738e65de57"
      },
      "source": [
        "course='python for\\n for\\t begginer'\n",
        "print(course)"
      ],
      "execution_count": 6,
      "outputs": [
        {
          "output_type": "stream",
          "name": "stdout",
          "text": [
            "python for\n",
            " for\t begginer\n"
          ]
        }
      ]
    },
    {
      "cell_type": "code",
      "metadata": {
        "colab": {
          "base_uri": "https://localhost:8080/"
        },
        "id": "i2hCqL7e6M2x",
        "outputId": "49165613-f666-4779-8a86-f3c62c79b638"
      },
      "source": [
        "#slicing\n",
        "x='abcdef'\n",
        "print(x[-1:-5:1])"
      ],
      "execution_count": 8,
      "outputs": [
        {
          "output_type": "stream",
          "name": "stdout",
          "text": [
            "\n"
          ]
        }
      ]
    },
    {
      "cell_type": "code",
      "metadata": {
        "colab": {
          "base_uri": "https://localhost:8080/"
        },
        "id": "UANCD_2j6QIT",
        "outputId": "b8ab3094-fa14-4d44-f0d4-5e544dd76a69"
      },
      "source": [
        "x='abc def'\n",
        "print(x[-1:-5])\n"
      ],
      "execution_count": 9,
      "outputs": [
        {
          "output_type": "stream",
          "name": "stdout",
          "text": [
            "\n"
          ]
        }
      ]
    },
    {
      "cell_type": "code",
      "metadata": {
        "colab": {
          "base_uri": "https://localhost:8080/"
        },
        "id": "hOkniHOt6Vi6",
        "outputId": "a3c4041f-e266-4f5b-b701-8b0c12bae92b"
      },
      "source": [
        "#formating\n",
        "first=\"gyanajit\"\n",
        "second=\"das\"\n",
        "full=first +\" \"+second\n",
        "print(full)"
      ],
      "execution_count": 10,
      "outputs": [
        {
          "output_type": "stream",
          "name": "stdout",
          "text": [
            "gyanajit das\n"
          ]
        }
      ]
    },
    {
      "cell_type": "code",
      "metadata": {
        "colab": {
          "base_uri": "https://localhost:8080/"
        },
        "id": "kTZD3wIg6Z4_",
        "outputId": "cf5c871a-6e87-4699-de34-bacde7f75a01"
      },
      "source": [
        "full=(f\"{(first)} {(second)}\")\n",
        "print(full)"
      ],
      "execution_count": 11,
      "outputs": [
        {
          "output_type": "stream",
          "name": "stdout",
          "text": [
            "gyanajit das\n"
          ]
        }
      ]
    },
    {
      "cell_type": "code",
      "metadata": {
        "colab": {
          "base_uri": "https://localhost:8080/"
        },
        "id": "n5mvQmvq6dav",
        "outputId": "ad91e31d-68b2-4ec8-9eea-449ca0717c0f"
      },
      "source": [
        "full=(f\"{len(first)} {len(second)}\")\n",
        "print(full)"
      ],
      "execution_count": 12,
      "outputs": [
        {
          "output_type": "stream",
          "name": "stdout",
          "text": [
            "8 3\n"
          ]
        }
      ]
    },
    {
      "cell_type": "code",
      "metadata": {
        "id": "wMBTDIhN6jhl"
      },
      "source": [
        ""
      ],
      "execution_count": null,
      "outputs": []
    }
  ]
}