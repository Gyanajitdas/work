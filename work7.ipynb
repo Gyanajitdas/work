{
  "nbformat": 4,
  "nbformat_minor": 0,
  "metadata": {
    "colab": {
      "name": "Untitled11.ipynb",
      "provenance": [],
      "collapsed_sections": [],
      "authorship_tag": "ABX9TyPdvfqKVlnEnCQp73/z3kzd",
      "include_colab_link": true
    },
    "kernelspec": {
      "display_name": "Python 3",
      "name": "python3"
    },
    "language_info": {
      "name": "python"
    }
  },
  "cells": [
    {
      "cell_type": "markdown",
      "metadata": {
        "id": "view-in-github",
        "colab_type": "text"
      },
      "source": [
        "<a href=\"https://colab.research.google.com/github/Gyanajitdas/work/blob/main/work7.ipynb\" target=\"_parent\"><img src=\"https://colab.research.google.com/assets/colab-badge.svg\" alt=\"Open In Colab\"/></a>"
      ]
    },
    {
      "cell_type": "code",
      "metadata": {
        "id": "xqovuzqnmYlC"
      },
      "source": [
        "#sort fun in listS\n",
        "friends=['joseph','glenn','sally']\n",
        "friends.sort()"
      ],
      "execution_count": null,
      "outputs": []
    },
    {
      "cell_type": "code",
      "metadata": {
        "colab": {
          "base_uri": "https://localhost:8080/"
        },
        "id": "yTsQKk1RnL77",
        "outputId": "ea3c1447-f269-4ff0-e910-554b8158bfa2"
      },
      "source": [
        "print (friends)"
      ],
      "execution_count": null,
      "outputs": [
        {
          "name": "stdout",
          "output_type": "stream",
          "text": [
            "['glenn', 'joseph', 'sally']\n"
          ]
        }
      ]
    },
    {
      "cell_type": "code",
      "metadata": {
        "colab": {
          "base_uri": "https://localhost:8080/"
        },
        "id": "C_V8ko2PnQAe",
        "outputId": "af07b04c-fc84-4b81-a9cd-8b587eec9140"
      },
      "source": [
        "print(friends[1])"
      ],
      "execution_count": null,
      "outputs": [
        {
          "name": "stdout",
          "output_type": "stream",
          "text": [
            "joseph\n"
          ]
        }
      ]
    },
    {
      "cell_type": "code",
      "metadata": {
        "colab": {
          "background_save": true,
          "base_uri": "https://localhost:8080/"
        },
        "id": "emjRw_-RncRH",
        "outputId": "31e709df-e807-4abf-b2ef-dd824c00d735"
      },
      "source": [
        "#while loop\n",
        "total=0\n",
        "count=0\n",
        "while True:\n",
        "  inp= input('enter a number:')\n",
        "  if inp =='done': break\n",
        "  value =float(inp)\n",
        "  total = total +value\n",
        "  count = count+1\n",
        "  average = total/count\n",
        "  print('Average:',average)"
      ],
      "execution_count": null,
      "outputs": [
        {
          "name": "stdout",
          "output_type": "stream",
          "text": [
            "Average: 1.0\n",
            "Average: 1.5\n",
            "Average: 2.6666666666666665\n",
            "Average: 4.5\n",
            "Average: 7.6\n",
            "Average: 13.0\n"
          ]
        }
      ]
    },
    {
      "cell_type": "code",
      "metadata": {
        "id": "NEt-eN7wolmY"
      },
      "source": [
        ""
      ],
      "execution_count": null,
      "outputs": []
    },
    {
      "cell_type": "code",
      "metadata": {
        "id": "Hhmlb6tSqIRa"
      },
      "source": [
        "for number in range(5):\n",
        "  print('attempt',number)"
      ],
      "execution_count": null,
      "outputs": []
    },
    {
      "cell_type": "code",
      "metadata": {
        "id": "qUROLMffqPvd",
        "colab": {
          "base_uri": "https://localhost:8080/"
        },
        "outputId": "a4bb15bd-0d03-492a-c973-90342a53d86e"
      },
      "source": [
        "#wap to print prime number in  between 1 to 1000:\n",
        "for x in range(2,1001,1):\n",
        "  for y in range(2,x,1):\n",
        "    if x%y==0:\n",
        "      break\n",
        "  else:\n",
        "        print(x,\"is a prime number\")\n"
      ],
      "execution_count": 7,
      "outputs": [
        {
          "output_type": "stream",
          "name": "stdout",
          "text": [
            "2 is a prime number\n",
            "3 is a prime number\n",
            "5 is a prime number\n",
            "7 is a prime number\n",
            "11 is a prime number\n",
            "13 is a prime number\n",
            "17 is a prime number\n",
            "19 is a prime number\n",
            "23 is a prime number\n",
            "29 is a prime number\n",
            "31 is a prime number\n",
            "37 is a prime number\n",
            "41 is a prime number\n",
            "43 is a prime number\n",
            "47 is a prime number\n",
            "53 is a prime number\n",
            "59 is a prime number\n",
            "61 is a prime number\n",
            "67 is a prime number\n",
            "71 is a prime number\n",
            "73 is a prime number\n",
            "79 is a prime number\n",
            "83 is a prime number\n",
            "89 is a prime number\n",
            "97 is a prime number\n",
            "101 is a prime number\n",
            "103 is a prime number\n",
            "107 is a prime number\n",
            "109 is a prime number\n",
            "113 is a prime number\n",
            "127 is a prime number\n",
            "131 is a prime number\n",
            "137 is a prime number\n",
            "139 is a prime number\n",
            "149 is a prime number\n",
            "151 is a prime number\n",
            "157 is a prime number\n",
            "163 is a prime number\n",
            "167 is a prime number\n",
            "173 is a prime number\n",
            "179 is a prime number\n",
            "181 is a prime number\n",
            "191 is a prime number\n",
            "193 is a prime number\n",
            "197 is a prime number\n",
            "199 is a prime number\n",
            "211 is a prime number\n",
            "223 is a prime number\n",
            "227 is a prime number\n",
            "229 is a prime number\n",
            "233 is a prime number\n",
            "239 is a prime number\n",
            "241 is a prime number\n",
            "251 is a prime number\n",
            "257 is a prime number\n",
            "263 is a prime number\n",
            "269 is a prime number\n",
            "271 is a prime number\n",
            "277 is a prime number\n",
            "281 is a prime number\n",
            "283 is a prime number\n",
            "293 is a prime number\n",
            "307 is a prime number\n",
            "311 is a prime number\n",
            "313 is a prime number\n",
            "317 is a prime number\n",
            "331 is a prime number\n",
            "337 is a prime number\n",
            "347 is a prime number\n",
            "349 is a prime number\n",
            "353 is a prime number\n",
            "359 is a prime number\n",
            "367 is a prime number\n",
            "373 is a prime number\n",
            "379 is a prime number\n",
            "383 is a prime number\n",
            "389 is a prime number\n",
            "397 is a prime number\n",
            "401 is a prime number\n",
            "409 is a prime number\n",
            "419 is a prime number\n",
            "421 is a prime number\n",
            "431 is a prime number\n",
            "433 is a prime number\n",
            "439 is a prime number\n",
            "443 is a prime number\n",
            "449 is a prime number\n",
            "457 is a prime number\n",
            "461 is a prime number\n",
            "463 is a prime number\n",
            "467 is a prime number\n",
            "479 is a prime number\n",
            "487 is a prime number\n",
            "491 is a prime number\n",
            "499 is a prime number\n",
            "503 is a prime number\n",
            "509 is a prime number\n",
            "521 is a prime number\n",
            "523 is a prime number\n",
            "541 is a prime number\n",
            "547 is a prime number\n",
            "557 is a prime number\n",
            "563 is a prime number\n",
            "569 is a prime number\n",
            "571 is a prime number\n",
            "577 is a prime number\n",
            "587 is a prime number\n",
            "593 is a prime number\n",
            "599 is a prime number\n",
            "601 is a prime number\n",
            "607 is a prime number\n",
            "613 is a prime number\n",
            "617 is a prime number\n",
            "619 is a prime number\n",
            "631 is a prime number\n",
            "641 is a prime number\n",
            "643 is a prime number\n",
            "647 is a prime number\n",
            "653 is a prime number\n",
            "659 is a prime number\n",
            "661 is a prime number\n",
            "673 is a prime number\n",
            "677 is a prime number\n",
            "683 is a prime number\n",
            "691 is a prime number\n",
            "701 is a prime number\n",
            "709 is a prime number\n",
            "719 is a prime number\n",
            "727 is a prime number\n",
            "733 is a prime number\n",
            "739 is a prime number\n",
            "743 is a prime number\n",
            "751 is a prime number\n",
            "757 is a prime number\n",
            "761 is a prime number\n",
            "769 is a prime number\n",
            "773 is a prime number\n",
            "787 is a prime number\n",
            "797 is a prime number\n",
            "809 is a prime number\n",
            "811 is a prime number\n",
            "821 is a prime number\n",
            "823 is a prime number\n",
            "827 is a prime number\n",
            "829 is a prime number\n",
            "839 is a prime number\n",
            "853 is a prime number\n",
            "857 is a prime number\n",
            "859 is a prime number\n",
            "863 is a prime number\n",
            "877 is a prime number\n",
            "881 is a prime number\n",
            "883 is a prime number\n",
            "887 is a prime number\n",
            "907 is a prime number\n",
            "911 is a prime number\n",
            "919 is a prime number\n",
            "929 is a prime number\n",
            "937 is a prime number\n",
            "941 is a prime number\n",
            "947 is a prime number\n",
            "953 is a prime number\n",
            "967 is a prime number\n",
            "971 is a prime number\n",
            "977 is a prime number\n",
            "983 is a prime number\n",
            "991 is a prime number\n",
            "997 is a prime number\n"
          ]
        }
      ]
    },
    {
      "cell_type": "code",
      "metadata": {
        "colab": {
          "base_uri": "https://localhost:8080/"
        },
        "id": "Gq0YGtzxtd24",
        "outputId": "b0316568-f7bf-46a1-fdc7-f9474e3f74e4"
      },
      "source": [
        "#for loop\n",
        "for number in range(5):\n",
        "    print('index',number)"
      ],
      "execution_count": 8,
      "outputs": [
        {
          "output_type": "stream",
          "name": "stdout",
          "text": [
            "index 0\n",
            "index 1\n",
            "index 2\n",
            "index 3\n",
            "index 4\n"
          ]
        }
      ]
    },
    {
      "cell_type": "code",
      "metadata": {
        "colab": {
          "base_uri": "https://localhost:8080/"
        },
        "id": "VlqKvrkHu2qI",
        "outputId": "bba0cf68-33ef-4823-c717-b7d9b188a643"
      },
      "source": [
        "for number in range(20):\n",
        "    print('count',number)"
      ],
      "execution_count": 9,
      "outputs": [
        {
          "output_type": "stream",
          "name": "stdout",
          "text": [
            "count 0\n",
            "count 1\n",
            "count 2\n",
            "count 3\n",
            "count 4\n",
            "count 5\n",
            "count 6\n",
            "count 7\n",
            "count 8\n",
            "count 9\n",
            "count 10\n",
            "count 11\n",
            "count 12\n",
            "count 13\n",
            "count 14\n",
            "count 15\n",
            "count 16\n",
            "count 17\n",
            "count 18\n",
            "count 19\n"
          ]
        }
      ]
    },
    {
      "cell_type": "code",
      "metadata": {
        "colab": {
          "base_uri": "https://localhost:8080/"
        },
        "id": "Alvf2uG4u8AU",
        "outputId": "f2341ad6-a91e-4223-c834-7af2f5603128"
      },
      "source": [
        "# for loop in sequence\n",
        "for i in range(1,20,2):\n",
        "  print(\"the number is \",i)"
      ],
      "execution_count": 10,
      "outputs": [
        {
          "output_type": "stream",
          "name": "stdout",
          "text": [
            "the number is  1\n",
            "the number is  3\n",
            "the number is  5\n",
            "the number is  7\n",
            "the number is  9\n",
            "the number is  11\n",
            "the number is  13\n",
            "the number is  15\n",
            "the number is  17\n",
            "the number is  19\n"
          ]
        }
      ]
    },
    {
      "cell_type": "code",
      "metadata": {
        "colab": {
          "base_uri": "https://localhost:8080/"
        },
        "id": "JrizH0hOvOST",
        "outputId": "34ad5456-81b2-4a66-9fc5-929dc758e364"
      },
      "source": [
        "#in range\n",
        "for j in range(1,10):\n",
        "  print(\"list is\",j)"
      ],
      "execution_count": 12,
      "outputs": [
        {
          "output_type": "stream",
          "name": "stdout",
          "text": [
            "list is 1\n",
            "list is 2\n",
            "list is 3\n",
            "list is 4\n",
            "list is 5\n",
            "list is 6\n",
            "list is 7\n",
            "list is 8\n",
            "list is 9\n"
          ]
        }
      ]
    },
    {
      "cell_type": "code",
      "metadata": {
        "id": "HvUthBPpvi57"
      },
      "source": [
        ""
      ],
      "execution_count": null,
      "outputs": []
    }
  ]
}