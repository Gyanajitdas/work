{
  "nbformat": 4,
  "nbformat_minor": 0,
  "metadata": {
    "colab": {
      "name": "Untitled6.ipynb",
      "provenance": [],
      "collapsed_sections": [],
      "authorship_tag": "ABX9TyPS5tPUoeHtIClS4SdV4cRD",
      "include_colab_link": true
    },
    "kernelspec": {
      "name": "python3",
      "display_name": "Python 3"
    },
    "language_info": {
      "name": "python"
    }
  },
  "cells": [
    {
      "cell_type": "markdown",
      "metadata": {
        "id": "view-in-github",
        "colab_type": "text"
      },
      "source": [
        "<a href=\"https://colab.research.google.com/github/Gyanajitdas/work/blob/main/work4.ipynb\" target=\"_parent\"><img src=\"https://colab.research.google.com/assets/colab-badge.svg\" alt=\"Open In Colab\"/></a>"
      ]
    },
    {
      "cell_type": "code",
      "metadata": {
        "colab": {
          "base_uri": "https://localhost:8080/"
        },
        "id": "ak0HGOmjvMYN",
        "outputId": "f4edf7cd-82fa-4685-d726-fbc55fddc640"
      },
      "source": [
        "course= \"python \\\\'for beginner\"\n",
        "print(course)"
      ],
      "execution_count": 3,
      "outputs": [
        {
          "output_type": "stream",
          "name": "stdout",
          "text": [
            "python \\'for beginner\n"
          ]
        }
      ]
    },
    {
      "cell_type": "code",
      "metadata": {
        "colab": {
          "base_uri": "https://localhost:8080/"
        },
        "id": "aK7kkCJBvhaM",
        "outputId": "a10c551b-3b18-40b9-a707-914dda3a991d"
      },
      "source": [
        "course=\"python \\for beginner\"\n",
        "print(course)"
      ],
      "execution_count": 4,
      "outputs": [
        {
          "output_type": "stream",
          "name": "stdout",
          "text": [
            "python \for beginner\n"
          ]
        }
      ]
    },
    {
      "cell_type": "code",
      "metadata": {
        "colab": {
          "base_uri": "https://localhost:8080/"
        },
        "id": "0eP12QNav9ZA",
        "outputId": "c33665f6-a127-4b9f-c0f0-79326f7dc724"
      },
      "source": [
        "#new line\n",
        "course=\"python \\n for beginner\"\n",
        "print(course)"
      ],
      "execution_count": 6,
      "outputs": [
        {
          "output_type": "stream",
          "name": "stdout",
          "text": [
            "python \n",
            " for beginner\n"
          ]
        }
      ]
    },
    {
      "cell_type": "code",
      "metadata": {
        "colab": {
          "base_uri": "https://localhost:8080/"
        },
        "id": "b4xIiG4ZwKWf",
        "outputId": "d5efd9ea-1531-4eac-a9f4-069c30f1ef1d"
      },
      "source": [
        "#formatted string\n",
        "first= \"gyanajit\"\n",
        "second=\"das\"\n",
        "full= first+\" \"+second\n",
        "print(full)"
      ],
      "execution_count": 7,
      "outputs": [
        {
          "output_type": "stream",
          "name": "stdout",
          "text": [
            "gyanajit das\n"
          ]
        }
      ]
    },
    {
      "cell_type": "code",
      "metadata": {
        "colab": {
          "base_uri": "https://localhost:8080/"
        },
        "id": "0di9edNdwjGW",
        "outputId": "f68f362b-41af-4336-e3de-0fa9f6090866"
      },
      "source": [
        "full=f\"{(first)} {(second)}\"\n",
        "print(full)"
      ],
      "execution_count": 8,
      "outputs": [
        {
          "output_type": "stream",
          "name": "stdout",
          "text": [
            "gyanajit das\n"
          ]
        }
      ]
    },
    {
      "cell_type": "code",
      "metadata": {
        "colab": {
          "base_uri": "https://localhost:8080/"
        },
        "id": "ZUM7k0y5xIlb",
        "outputId": "dfa242b8-1573-475d-93dc-55f5467f1c1b"
      },
      "source": [
        "#string length calculate\n",
        "full=f\"{len(first)} {len(second)}\"\n",
        "print(full)"
      ],
      "execution_count": 9,
      "outputs": [
        {
          "output_type": "stream",
          "name": "stdout",
          "text": [
            "8 3\n"
          ]
        }
      ]
    },
    {
      "cell_type": "code",
      "metadata": {
        "colab": {
          "base_uri": "https://localhost:8080/"
        },
        "id": "goKOm3ovxeGR",
        "outputId": "f1c6739c-8c96-41bd-86fc-4e1e62ad22cc"
      },
      "source": [
        "#string method\n",
        "#upper case\n",
        "name= \"gyanajit das\"\n",
        "print(name.upper())"
      ],
      "execution_count": 10,
      "outputs": [
        {
          "output_type": "stream",
          "name": "stdout",
          "text": [
            "GYANAJIT DAS\n"
          ]
        }
      ]
    },
    {
      "cell_type": "code",
      "metadata": {
        "colab": {
          "base_uri": "https://localhost:8080/"
        },
        "id": "tTPsiBL1yBhX",
        "outputId": "a450c64c-e769-44d2-baf1-b52cd2c7c7f9"
      },
      "source": [
        "#lower case\n",
        "print(name.lower())"
      ],
      "execution_count": 11,
      "outputs": [
        {
          "output_type": "stream",
          "name": "stdout",
          "text": [
            "gyanajit das\n"
          ]
        }
      ]
    },
    {
      "cell_type": "code",
      "metadata": {
        "colab": {
          "base_uri": "https://localhost:8080/"
        },
        "id": "j-NakDamyLAg",
        "outputId": "994c8b15-52fa-40fe-f72e-e7dd9218798c"
      },
      "source": [
        "#title\n",
        "print(name.title())"
      ],
      "execution_count": 12,
      "outputs": [
        {
          "output_type": "stream",
          "name": "stdout",
          "text": [
            "Gyanajit Das\n"
          ]
        }
      ]
    },
    {
      "cell_type": "code",
      "metadata": {
        "colab": {
          "base_uri": "https://localhost:8080/"
        },
        "id": "Qm0nr6c_yjO7",
        "outputId": "5ca7c763-dda7-4a32-c6f1-611437b4170d"
      },
      "source": [
        "print(\"jit\" in name)"
      ],
      "execution_count": 13,
      "outputs": [
        {
          "output_type": "stream",
          "name": "stdout",
          "text": [
            "True\n"
          ]
        }
      ]
    },
    {
      "cell_type": "code",
      "metadata": {
        "colab": {
          "base_uri": "https://localhost:8080/"
        },
        "id": "5nwgE2k0ywEt",
        "outputId": "9b1d6f3d-cf6f-4eb3-a5fb-6d6a1076d17f"
      },
      "source": [
        "print(\"das\" not in name)"
      ],
      "execution_count": 14,
      "outputs": [
        {
          "output_type": "stream",
          "name": "stdout",
          "text": [
            "False\n"
          ]
        }
      ]
    },
    {
      "cell_type": "code",
      "metadata": {
        "id": "y7YhNr3fy2JE"
      },
      "source": [
        ""
      ],
      "execution_count": null,
      "outputs": []
    }
  ]
}