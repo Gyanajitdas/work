{
  "nbformat": 4,
  "nbformat_minor": 0,
  "metadata": {
    "colab": {
      "name": "Untitled2.ipynb",
      "provenance": [],
      "collapsed_sections": [],
      "authorship_tag": "ABX9TyPF+BgCgxmzCa6GrkpXou+D",
      "include_colab_link": true
    },
    "kernelspec": {
      "name": "python3",
      "display_name": "Python 3"
    },
    "language_info": {
      "name": "python"
    }
  },
  "cells": [
    {
      "cell_type": "markdown",
      "metadata": {
        "id": "view-in-github",
        "colab_type": "text"
      },
      "source": [
        "<a href=\"https://colab.research.google.com/github/Gyanajitdas/work/blob/main/work2.ipynb\" target=\"_parent\"><img src=\"https://colab.research.google.com/assets/colab-badge.svg\" alt=\"Open In Colab\"/></a>"
      ]
    },
    {
      "cell_type": "code",
      "metadata": {
        "colab": {
          "base_uri": "https://localhost:8080/"
        },
        "id": "OmR7arXPpFFp",
        "outputId": "4fec8814-52e1-49fc-f50f-bd158f7d52f0"
      },
      "source": [
        "#string with single quotes\n",
        "my_str= 'welcome hello'\n",
        "print(my_str)"
      ],
      "execution_count": 4,
      "outputs": [
        {
          "output_type": "stream",
          "name": "stdout",
          "text": [
            "welcome hello\n"
          ]
        }
      ]
    },
    {
      "cell_type": "code",
      "metadata": {
        "colab": {
          "base_uri": "https://localhost:8080/"
        },
        "id": "XNkW4t0mrY1i",
        "outputId": "d0e50cb1-8fad-4369-e371-c0f188bdade7"
      },
      "source": [
        "#string with double quotes\n",
        "my_str = \" welcome i'm a student\"\n",
        "print(my_str)"
      ],
      "execution_count": 6,
      "outputs": [
        {
          "output_type": "stream",
          "name": "stdout",
          "text": [
            " welcome i'm a student\n"
          ]
        }
      ]
    },
    {
      "cell_type": "code",
      "metadata": {
        "colab": {
          "base_uri": "https://localhost:8080/"
        },
        "id": "n31w36BVsDQv",
        "outputId": "cf045402-d2a4-4e72-a0f9-c408019d802c"
      },
      "source": [
        "#string with triple quotes\n",
        "my_str = ''' welcome to world '''\n",
        "print(my_str)"
      ],
      "execution_count": 7,
      "outputs": [
        {
          "output_type": "stream",
          "name": "stdout",
          "text": [
            " welcome to world \n"
          ]
        }
      ]
    },
    {
      "cell_type": "code",
      "metadata": {
        "colab": {
          "base_uri": "https://localhost:8080/"
        },
        "id": "CtATMgnksbcu",
        "outputId": "59b4269b-98df-43dd-d0bf-37b910163381"
      },
      "source": [
        "# asccessing string charecter\n",
        "str1 = 'welcome'\n",
        "print('str1 =', str1)"
      ],
      "execution_count": 8,
      "outputs": [
        {
          "output_type": "stream",
          "name": "stdout",
          "text": [
            "str1 = welcome\n"
          ]
        }
      ]
    },
    {
      "cell_type": "code",
      "metadata": {
        "colab": {
          "base_uri": "https://localhost:8080/"
        },
        "id": "xX8HdP7Qs3gu",
        "outputId": "54f9c9f6-5420-4cc7-c505-a1a5a58272a2"
      },
      "source": [
        "#first charecter\n",
        "print('str1[0] =',str1[0])"
      ],
      "execution_count": 11,
      "outputs": [
        {
          "output_type": "stream",
          "name": "stdout",
          "text": [
            "str1[0] = w\n"
          ]
        }
      ]
    },
    {
      "cell_type": "code",
      "metadata": {
        "colab": {
          "base_uri": "https://localhost:8080/"
        },
        "id": "V7fMSVRotIao",
        "outputId": "7ca7ee98-5cae-44a9-817f-b7defb0441b4"
      },
      "source": [
        "# using +\n",
        "str2 = 'hi'\n",
        "print( ' str1 + str2 =',str1 + str2)"
      ],
      "execution_count": 12,
      "outputs": [
        {
          "output_type": "stream",
          "name": "stdout",
          "text": [
            " str1 + str2 = welcomehi\n"
          ]
        }
      ]
    },
    {
      "cell_type": "code",
      "metadata": {
        "colab": {
          "base_uri": "https://localhost:8080/"
        },
        "id": "jkikmIvetrRH",
        "outputId": "0764ee05-bb93-4335-f87f-1f21e0f6f2b5"
      },
      "source": [
        "print( 'str1 + 10 =', str1 + '10')"
      ],
      "execution_count": 15,
      "outputs": [
        {
          "output_type": "stream",
          "name": "stdout",
          "text": [
            "str1 + 10 = welcome10\n"
          ]
        }
      ]
    },
    {
      "cell_type": "code",
      "metadata": {
        "id": "PFE4BSvJt9Fm"
      },
      "source": [
        ""
      ],
      "execution_count": 17,
      "outputs": []
    },
    {
      "cell_type": "code",
      "metadata": {
        "id": "QC85CzKpu258"
      },
      "source": [
        ""
      ],
      "execution_count": null,
      "outputs": []
    }
  ]
}